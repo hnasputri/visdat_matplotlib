{
 "cells": [
  {
   "cell_type": "markdown",
   "id": "f4f6ae9b",
   "metadata": {
    "slideshow": {
     "slide_type": "slide"
    }
   },
   "source": [
    "# Bar Plot / Bar Chart"
   ]
  },
  {
   "cell_type": "code",
   "execution_count": null,
   "id": "5e727a57",
   "metadata": {},
   "outputs": [],
   "source": [
    "2273010 - Hana Saputri"
   ]
  },
  {
   "cell_type": "markdown",
   "id": "93adc5ca",
   "metadata": {},
   "source": [
    "Dalam sesi ini kita akan mempelajari cara membuat bar plot dengan Matplotlib."
   ]
  },
  {
   "cell_type": "code",
   "execution_count": null,
   "id": "31bfc293",
   "metadata": {
    "slideshow": {
     "slide_type": "subslide"
    }
   },
   "outputs": [],
   "source": [
    "Import modules"
   ]
  },
  {
   "cell_type": "code",
   "execution_count": null,
   "id": "63506e25",
   "metadata": {},
   "outputs": [],
   "source": [
    "%matplotlib inline"
   ]
  },
  {
   "cell_type": "code",
   "execution_count": null,
   "id": "3b6eecbd",
   "metadata": {},
   "outputs": [],
   "source": [
    "import matplotlib\n",
    "import matplotlib.pyplot as plt\n",
    "import numpy as np\n",
    "\n",
    "print(matplotlib.__version__)\n",
    "print(np.__version__)"
   ]
  },
  {
   "cell_type": "code",
   "execution_count": null,
   "id": "cd692599",
   "metadata": {
    "slideshow": {
     "slide_type": "subslide"
    }
   },
   "outputs": [],
   "source": [
    "Simple Bar Plot"
   ]
  },
  {
   "cell_type": "code",
   "execution_count": null,
   "id": "b86e3aad",
   "metadata": {},
   "outputs": [],
   "source": [
    "data = [25, 45, 55, 125, 225]\n",
    "kategori = ['A', 'B', 'C', 'D', 'E']"
   ]
  },
  {
   "cell_type": "code",
   "execution_count": null,
   "id": "d6e27b49",
   "metadata": {},
   "outputs": [],
   "source": [
    "plt.bar(kategori, data)\n",
    "plt.grid()\n",
    "\n",
    "plt.xlabel('Kategori')\n",
    "plt.ylabel('Jumlah')\n",
    "plt.title('Contoh Bar Plot')\n",
    "\n",
    "plt.show()"
   ]
  },
  {
   "cell_type": "markdown",
   "id": "02d83ab3",
   "metadata": {
    "slideshow": {
     "slide_type": "subslide"
    }
   },
   "source": [
    "Pengaturan Grid dan Color"
   ]
  },
  {
   "cell_type": "code",
   "execution_count": null,
   "id": "479d756c",
   "metadata": {},
   "outputs": [],
   "source": [
    "data = [25, 45, 55, 125, 225]\n",
    "kategori = ['A', 'B', 'C', 'D', 'E']"
   ]
  },
  {
   "cell_type": "code",
   "execution_count": null,
   "id": "d8b12e31",
   "metadata": {},
   "outputs": [],
   "source": [
    "plt.bar(kategori, \n",
    "        data, \n",
    "        color='red', \n",
    "        alpha=0.25)\n",
    "\n",
    "plt.grid(linestyle='--', \n",
    "         linewidth=2, \n",
    "         axis='y', # pilihan: x, y, both\n",
    "         alpha=0.50)\n",
    "\n",
    "plt.xlabel('Kategori')\n",
    "plt.ylabel('Jumlah')\n",
    "plt.title('Contoh Bar Plot')\n",
    "\n",
    "plt.show()"
   ]
  },
  {
   "cell_type": "code",
   "execution_count": null,
   "id": "126be17e",
   "metadata": {
    "slideshow": {
     "slide_type": "subslide"
    }
   },
   "outputs": [],
   "source": [
    "Horisontal Bar Plot"
   ]
  },
  {
   "cell_type": "code",
   "execution_count": null,
   "id": "c1460917",
   "metadata": {},
   "outputs": [],
   "source": [
    "data = [25, 45, 55, 125, 225]\n",
    "kategori = ['A', 'B', 'C', 'D', 'E']"
   ]
  },
  {
   "cell_type": "code",
   "execution_count": null,
   "id": "506a49d0",
   "metadata": {},
   "outputs": [],
   "source": [
    "plt.barh(kategori, data)\n",
    "# plt.barh(kategori[::-1], data[::-1])\n",
    "\n",
    "plt.grid(linestyle='--', \n",
    "         linewidth=1, \n",
    "         axis='x',\n",
    "         alpha=0.75)\n",
    "\n",
    "plt.xlabel('Jumlah')\n",
    "plt.ylabel('Kategori')\n",
    "plt.title('Contoh Horisontal Bar Plot')\n",
    "\n",
    "plt.show()"
   ]
  },
  {
   "cell_type": "code",
   "execution_count": null,
   "id": "7a38c4ec",
   "metadata": {},
   "outputs": [],
   "source": [
    "Stacked Bar Plot"
   ]
  },
  {
   "cell_type": "code",
   "execution_count": null,
   "id": "e75c5190",
   "metadata": {},
   "outputs": [],
   "source": [
    "data1 = [25, 85, 75, 40, 60]\n",
    "data2 = [40, 35, 20, 55, 10]\n",
    "kategori = ['A', 'B', 'C', 'D', 'E']"
   ]
  },
  {
   "cell_type": "code",
   "execution_count": null,
   "id": "029a9eec",
   "metadata": {},
   "outputs": [],
   "source": [
    "plt.bar(kategori, data1, label='Data 1')\n",
    "# plt.bar(kategori, data2, label='Data 2')\n",
    "plt.bar(kategori, data2, label='Data 2', bottom=data1)\n",
    "\n",
    "plt.legend()\n",
    "\n",
    "plt.grid(linestyle='--', \n",
    "         linewidth=1, \n",
    "         axis='y',\n",
    "         alpha=0.75)\n",
    "\n",
    "plt.xlabel('Kategori')\n",
    "plt.ylabel('Jumlah')\n",
    "plt.title('Contoh Stacked Bar Plot')\n",
    "\n",
    "plt.show()"
   ]
  },
  {
   "cell_type": "code",
   "execution_count": null,
   "id": "14e3bbdc",
   "metadata": {},
   "outputs": [],
   "source": [
    "Grouped Bar Plot"
   ]
  },
  {
   "cell_type": "code",
   "execution_count": null,
   "id": "a3e94f12",
   "metadata": {},
   "outputs": [],
   "source": [
    "data1 = [25,85, 75, 40, 60]\n",
    "data2 = [40, 35, 20, 55, 10]\n",
    "kategori = ['A', 'B', 'C', 'D', 'E']\n",
    "\n",
    "x = np.arange(len(kategori))\n",
    "x"
   ]
  },
  {
   "cell_type": "code",
   "execution_count": null,
   "id": "b4f23e97",
   "metadata": {},
   "outputs": [],
   "source": [
    "width = 0.35\n",
    "\n",
    "plt.bar(x-width/2, data1, width, label='Data 1')\n",
    "plt.bar(x+width/2, data2, width, label='Data 2')\n",
    "\n",
    "plt.xticks(x, kategori)\n",
    "\n",
    "plt.grid(linestyle='--', \n",
    "         linewidth=1, \n",
    "         axis='y',\n",
    "         alpha=0.75)\n",
    "\n",
    "plt.xlabel('Kategori')\n",
    "plt.ylabel('Jumlah')\n",
    "plt.title('Contoh Grouped Bar Plot')\n",
    "\n",
    "plt.legend()\n",
    "plt.show()"
   ]
  }
 ],
 "metadata": {
  "celltoolbar": "Slideshow",
  "kernelspec": {
   "display_name": "Python 3 (ipykernel)",
   "language": "python",
   "name": "python3"
  },
  "language_info": {
   "codemirror_mode": {
    "name": "ipython",
    "version": 3
   },
   "file_extension": ".py",
   "mimetype": "text/x-python",
   "name": "python",
   "nbconvert_exporter": "python",
   "pygments_lexer": "ipython3",
   "version": "3.9.13"
  }
 },
 "nbformat": 4,
 "nbformat_minor": 5
}
