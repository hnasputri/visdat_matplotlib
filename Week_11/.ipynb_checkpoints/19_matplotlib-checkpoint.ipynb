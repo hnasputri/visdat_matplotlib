{
 "cells": [
  {
   "cell_type": "markdown",
   "id": "78ffdb2e",
   "metadata": {
    "slideshow": {
     "slide_type": "slide"
    }
   },
   "source": [
    "# 19: Animasi pada Matplotlib"
   ]
  },
  {
   "cell_type": "markdown",
   "id": "d9c3ca9e",
   "metadata": {},
   "source": [
    "2273010 - Hana Saputri"
   ]
  },
  {
   "cell_type": "markdown",
   "id": "3c7fa296",
   "metadata": {
    "slideshow": {
     "slide_type": "subslide"
    }
   },
   "source": [
    "Import modules"
   ]
  },
  {
   "cell_type": "code",
   "execution_count": 1,
   "id": "61c4e1c7",
   "metadata": {},
   "outputs": [],
   "source": [
    "%matplotlib inline"
   ]
  },
  {
   "cell_type": "code",
   "execution_count": 2,
   "id": "e50710b2",
   "metadata": {},
   "outputs": [
    {
     "name": "stdout",
     "output_type": "stream",
     "text": [
      "3.5.2\n",
      "1.21.5\n"
     ]
    }
   ],
   "source": [
    "import matplotlib\n",
    "import matplotlib.pyplot as plt\n",
    "from matplotlib.animation import FuncAnimation\n",
    "from IPython import display\n",
    "import numpy as np\n",
    "\n",
    "print(matplotlib.__version__)\n",
    "print(np.__version__)"
   ]
  },
  {
   "cell_type": "markdown",
   "id": "2316b33c",
   "metadata": {
    "slideshow": {
     "slide_type": "subslide"
    }
   },
   "source": [
    "Review Figure"
   ]
  },
  {
   "cell_type": "code",
   "execution_count": 3,
   "id": "d5904908",
   "metadata": {},
   "outputs": [
    {
     "name": "stdout",
     "output_type": "stream",
     "text": [
      "[<matplotlib.lines.Line2D object at 0x0000028DF0CA9D60>]\n"
     ]
    },
    {
     "data": {
      "image/png": "[encoded data removed]",
      "text/plain": [
       "<Figure size 640x480 with 1 Axes>"
      ]
     },
     "metadata": {},
     "output_type": "display_data"
    }
   ],
   "source": [
    "fig = plt.figure()\n",
    "plt.xlim((0, 8))\n",
    "plt.ylim((-4, 2))\n",
    "\n",
    "print(plt.plot([]))"
   ]
  },
  {
   "cell_type": "markdown",
   "id": "b94ceff0",
   "metadata": {
    "slideshow": {
     "slide_type": "subslide"
    }
   },
   "source": [
    "Animasi pada Matplotlib"
   ]
  },
  {
   "cell_type": "code",
   "execution_count": null,
   "id": "ff14b7cc",
   "metadata": {},
   "outputs": [],
   "source": [
    "fig = plt.figure()\n",
    "plt.xlim((0, 4))\n",
    "plt.ylim((-2, 2))\n",
    "\n",
    "line = plt.plot([])[0]\n",
    "\n",
    "\n",
    "def animate(i):\n",
    "    x = np.linspace(0, 4, 1000)\n",
    "    y = np.sin(2 * np.pi * (x - 0.01 * i))\n",
    "    line.set_data(x, y)\n",
    "    return line,\n",
    "\n",
    "\n",
    "anim = FuncAnimation(fig, animate, frames=200, interval=50)\n",
    "\n",
    "video = anim.to_html5_video()\n",
    "html = display.HTML(video)\n",
    "display.display(html)\n",
    "\n",
    "plt.close()"
   ]
  }
 ],
 "metadata": {
  "celltoolbar": "Slideshow",
  "kernelspec": {
   "display_name": "Python 3 (ipykernel)",
   "language": "python",
   "name": "python3"
  },
  "language_info": {
   "codemirror_mode": {
    "name": "ipython",
    "version": 3
   },
   "file_extension": ".py",
   "mimetype": "text/x-python",
   "name": "python",
   "nbconvert_exporter": "python",
   "pygments_lexer": "ipython3",
   "version": "3.9.13"
  }
 },
 "nbformat": 4,
 "nbformat_minor": 5
}
